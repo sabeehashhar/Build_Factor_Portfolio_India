{
 "cells": [
  {
   "cell_type": "markdown",
   "metadata": {},
   "source": [
    "# Extract all Fundamental Data from Screener.in using Beautiful Soup and Selenium"
   ]
  },
  {
   "cell_type": "code",
   "execution_count": 20,
   "metadata": {},
   "outputs": [],
   "source": [
    "import numpy as np # linear algebra\n",
    "import pandas as pd # pandas for dataframe based data processing and CSV file I/O\n",
    "import requests # for http requests\n",
    "from bs4 import BeautifulSoup # for html parsing and scraping\n",
    "import bs4\n",
    "import json\n",
    "from tidylib import tidy_document # for tidying incorrect html\n",
    "import pandas as pd\n",
    "import time\n",
    "from selenium import webdriver\n",
    "import pickle\n",
    "import selenium.webdriver "
   ]
  },
  {
   "cell_type": "code",
   "execution_count": 21,
   "metadata": {},
   "outputs": [
    {
     "data": {
      "text/plain": [
       "483"
      ]
     },
     "execution_count": 21,
     "metadata": {},
     "output_type": "execute_result"
    }
   ],
   "source": [
    "import pandas as pd\n",
    "read_nifty=pd.read_csv('data/NSE_500_Output.csv')\n",
    "#read_nifty.head()\n",
    "#read_nifty = read_nifty[read_nifty.Industry != 'FINANCIAL SERVICES']\n",
    "#read_nifty = read_nifty[read_nifty.Industry != 'CONSTRUCTION']\n",
    "symbol_list=read_nifty['Symbol'].unique().tolist()\n",
    "len(symbol_list)"
   ]
  },
  {
   "cell_type": "code",
   "execution_count": 22,
   "metadata": {},
   "outputs": [],
   "source": [
    "# Update Chrome Driver Path for Selenium to extract data from Screener.in\n",
    "chrome_driver_path='C:\\\\Users\\\\sashhar\\\\Desktop\\\\Quantopian\\\\driver\\\\chromedriver.exe'"
   ]
  },
  {
   "cell_type": "markdown",
   "metadata": {},
   "source": [
    "# Code for Extracting Data from Screener.in for each Symbol"
   ]
  },
  {
   "cell_type": "code",
   "execution_count": 23,
   "metadata": {},
   "outputs": [
    {
     "name": "stdout",
     "output_type": "stream",
     "text": [
      "Now processing for Symbol:  1    INFY\n",
      "Now processing for Symbol:  2    RELIANCE\n"
     ]
    }
   ],
   "source": [
    "##################With Pickle Sabeeh1983\n",
    "symbol_list=['INFY','RELIANCE']\n",
    "z_file_standalone=pd.DataFrame()\n",
    "q_file_standalone=pd.DataFrame()\n",
    "y_file_standalone=pd.DataFrame()\n",
    "s_file_standalone=pd.DataFrame()\n",
    "q_file_name_standalone=\"data/Quarter_Ticker_nifty500_standalone\"+'.csv'\n",
    "y_file_name_standalone=\"data/Yearly_Ticker_nifty500_standalone\"+'.csv'\n",
    "z_file_name_standalone=\"data/Peer_Ticker_nifty500_standalone\"+'.csv'\n",
    "s_file_name_standalone='data/Share_Holding_nifty500_standalone'+'.csv'\n",
    "from selenium import webdriver\n",
    "folder_to_save='C:\\\\Users\\\\sashhar\\\\Desktop\\\\Quantopian\\\\Data\\\\'\n",
    "count=1\n",
    "for symbol in symbol_list:\n",
    "    print(\"Now processing for Symbol: \",count,\"  \", symbol)\n",
    "    driver = webdriver.Chrome(chrome_driver_path)\n",
    "    driver.get(\"http://www.screener.in\") \n",
    "    cookies = pickle.load(open(\"cookie_use.pkl\", \"rb\"))\n",
    "    for cookie in cookies: \n",
    "        driver.add_cookie(cookie)\n",
    "    url=\"https://www.screener.in/company/\"+symbol\n",
    "    driver.get(url)\n",
    "    content = BeautifulSoup(driver.page_source, \"html.parser\")\n",
    "    try:\n",
    "        z2=content.find(\"section\",{\"id\":'peers'}).find(\"div\",{\"id\":'peers-table-placeholder'}).find_all('table')\n",
    "        z3=pd.read_html(str(z2))[0]\n",
    "        z3['Ticker']=symbol\n",
    "        z3['Type']=\"Peer_Comparison\"\n",
    "        company_name=content.find(\"a\",{\"class\":'active'}).text\n",
    "        z3['Company_Name']=company_name\n",
    "        #print(z3.head())\n",
    "        z_file_standalone=z_file_standalone.append(z3)\n",
    "    except:\n",
    "        print(\"Error getting peers data for symbol:\",symbol)\n",
    "    try:\n",
    "        quarter_income_table=content.find(\"section\",{\"id\":'quarters'}).find_all('table')\n",
    "        quarter_income_df = pd.read_html(str(quarter_income_table))[0].T\n",
    "        quarter_income_df.columns = quarter_income_df.iloc[0]\n",
    "        quarter_income_df=quarter_income_df.drop(quarter_income_df.index[0])\n",
    "        quarter_income_df.index.names=['Date']\n",
    "        quarter_income_df['Ticker']=symbol\n",
    "        quarter_income_df['Type']=\"Quarterly_Income_Statement\"\n",
    "        q_file_standalone=q_file_standalone.append(quarter_income_df)\n",
    "    except:\n",
    "        print(\"Error Getting Quarter data for symbol:\",symbol)\n",
    "    try:\n",
    "        shareholding_table=content.find(\"section\",{\"id\":'shareholding'}).find_all('table')\n",
    "        shareholding_table_df = pd.read_html(str(shareholding_table))[0].T\n",
    "        shareholding_table_df.columns = shareholding_table_df.iloc[0]\n",
    "        shareholding_table_df=shareholding_table_df.drop(shareholding_table_df.index[0])\n",
    "        shareholding_table_df.index.names=['Date']\n",
    "        shareholding_table_df['Ticker']=symbol\n",
    "        shareholding_table_df['Type']=\"Shareholding_Pattern\"  \n",
    "        #shareholding_table_df['Company_Name']=company_name\n",
    "        s_file_standalone=s_file_standalone.append(shareholding_table_df)\n",
    "    except:\n",
    "        print(\"Error Getting Shareholder data for symbol:\", symbol)\n",
    "    try:\n",
    "        income_table=content.find(\"section\",{\"id\":'profit-loss'}).find_all('table')\n",
    "        income_statement_df = pd.read_html(str(income_table))[0]\n",
    "        income_statement_df.columns.values[0] = \"KPI\"\n",
    "        income_statement_df.set_index(\"KPI\",inplace=True)\n",
    "        column_list = income_statement_df.columns.tolist()\n",
    "        if 'TTM' in column_list :\n",
    "            TTM=income_statement_df['TTM']\n",
    "            income_statement_df=income_statement_df.drop(columns=['TTM'])\n",
    "            income_statement_df.rename(columns = lambda x: x.split(' ')[1], inplace=True)\n",
    "            income_statement_df['TTM']=TTM\n",
    "        else:\n",
    "            income_statement_df.rename(columns = lambda x: x.split(' ')[1], inplace=True)\n",
    "        income_statement_df['Ticker']=symbol\n",
    "        income_statement_df['Type']=\"Income_Statement\"\n",
    "        income_statement_df=income_statement_df.loc[:,~income_statement_df.columns.duplicated()]\n",
    "        #income_statement_df['Company_Name']=company_name\n",
    "        y_file_standalone=y_file_standalone.append(income_statement_df)\n",
    "    except:\n",
    "        print(\"Error Getting Income Statement for symbol:\",symbol)\n",
    "    try:\n",
    "        balance_sheet_table=content.find(\"section\",{\"id\":'balance-sheet'}).find_all('table')\n",
    "        balance_sheet_df = pd.read_html(str(balance_sheet_table))[0]\n",
    "        balance_sheet_df.columns.values[0] = \"KPI\"\n",
    "        balance_sheet_df.set_index(\"KPI\",inplace=True)\n",
    "        column_list = balance_sheet_df.columns.tolist()\n",
    "        if 'TTM' in column_list :\n",
    "            TTM=balance_sheet_df['TTM']\n",
    "            balance_sheet_df=balance_sheet_df.drop(columns=['TTM'])\n",
    "            balance_sheet_df.rename(columns = lambda x: x.split(' ')[1], inplace=True)\n",
    "            balance_sheet_df['TTM']=TTM\n",
    "        else:\n",
    "            balance_sheet_df.rename(columns = lambda x: x.split(' ')[1], inplace=True)\n",
    "        balance_sheet_df['Ticker']=symbol\n",
    "        balance_sheet_df['Type']=\"Balance_Sheet\"\n",
    "        balance_sheet_df=balance_sheet_df.loc[:,~balance_sheet_df.columns.duplicated()]\n",
    "        #balance_sheet_df['Company_Name']=company_name\n",
    "        y_file_standalone=y_file_standalone.append(balance_sheet_df)\n",
    "    except:\n",
    "        print(\"Error Getting Balance Sheet Data for symbol:\", symbol)\n",
    "    try:\n",
    "        cash_flow_table=content.find(\"section\",{\"id\":'cash-flow'}).find_all('table')\n",
    "        cash_flow_df = pd.read_html(str(cash_flow_table))[0]\n",
    "        cash_flow_df.columns.values[0] = \"KPI\"\n",
    "        cash_flow_df.set_index(\"KPI\",inplace=True)\n",
    "        column_list = cash_flow_df.columns.tolist()\n",
    "        if 'TTM' in column_list :\n",
    "            TTM=cash_flow_df['TTM']\n",
    "            cash_flow_df=cash_flow_df.drop(columns=['TTM'])\n",
    "            cash_flow_df.rename(columns = lambda x: x.split(' ')[1], inplace=True)\n",
    "            cash_flow_df['TTM']=TTM\n",
    "        else:\n",
    "            cash_flow_df.rename(columns = lambda x: x.split(' ')[1], inplace=True)\n",
    "        cash_flow_df['Ticker']=symbol\n",
    "        cash_flow_df['Type']=\"Cash_Flow\"\n",
    "        cash_flow_df=cash_flow_df.loc[:,~cash_flow_df.columns.duplicated()]\n",
    "        #cash_flow_df['Company_Name']=company_name\n",
    "        y_file_standalone=y_file_standalone.append(cash_flow_df)   \n",
    "    except:\n",
    "        print(\"Error getting Cash Flow Data for symbol:\", symbol)\n",
    "    count=count+1\n",
    "    driver.quit()\n",
    "    time.sleep(1.5)"
   ]
  },
  {
   "cell_type": "code",
   "execution_count": 24,
   "metadata": {},
   "outputs": [],
   "source": [
    "z_file_standalone.to_csv(z_file_name_standalone)\n",
    "q_file_standalone.to_csv(q_file_name_standalone)\n",
    "y_file_standalone.to_csv(y_file_name_standalone)\n",
    "s_file_standalone.to_csv(s_file_name_standalone)\n",
    "z_file_standalone[z_file_standalone['Name']==z_file_standalone['Company_Name']].to_csv('data/Peer_Ticker_nifty500_stand_cleaned.csv')"
   ]
  },
  {
   "cell_type": "code",
   "execution_count": null,
   "metadata": {},
   "outputs": [],
   "source": []
  },
  {
   "cell_type": "code",
   "execution_count": null,
   "metadata": {},
   "outputs": [],
   "source": []
  },
  {
   "cell_type": "code",
   "execution_count": null,
   "metadata": {},
   "outputs": [],
   "source": []
  },
  {
   "cell_type": "markdown",
   "metadata": {},
   "source": [
    "# Save Cookie for Screener.in Login to Local Disk"
   ]
  },
  {
   "cell_type": "code",
   "execution_count": 25,
   "metadata": {},
   "outputs": [],
   "source": [
    "def save_cookie(driver, path):\n",
    "    with open(path, 'wb') as filehandler:\n",
    "        pickle.dump(driver.get_cookies(), filehandler)\n",
    "\n",
    "def load_cookie(driver, path):\n",
    "     with open(path, 'rb') as cookiesfile:\n",
    "         cookies = pickle.load(cookiesfile)\n",
    "         for cookie in cookies:\n",
    "             driver.add_cookie(cookie)"
   ]
  },
  {
   "cell_type": "code",
   "execution_count": 26,
   "metadata": {},
   "outputs": [],
   "source": [
    "# Pause here . A Page will open for entering your login which would then be saved\n",
    "driver = selenium.webdriver.Chrome('C:\\\\Users\\\\sashhar\\\\Desktop\\\\Quantopian\\\\driver\\\\chromedriver.exe')\n",
    "driver.get(\"https://www.screener.in/login/\")"
   ]
  },
  {
   "cell_type": "code",
   "execution_count": 27,
   "metadata": {},
   "outputs": [],
   "source": [
    "pickle.dump( driver.get_cookies() , open(\"cookie_use.pkl\",\"wb\"))\n",
    "driver.quit()"
   ]
  },
  {
   "cell_type": "code",
   "execution_count": 7,
   "metadata": {},
   "outputs": [],
   "source": []
  },
  {
   "cell_type": "code",
   "execution_count": null,
   "metadata": {},
   "outputs": [],
   "source": []
  }
 ],
 "metadata": {
  "kernelspec": {
   "display_name": "Python 3",
   "language": "python",
   "name": "python3"
  },
  "language_info": {
   "codemirror_mode": {
    "name": "ipython",
    "version": 3
   },
   "file_extension": ".py",
   "mimetype": "text/x-python",
   "name": "python",
   "nbconvert_exporter": "python",
   "pygments_lexer": "ipython3",
   "version": "3.6.10"
  }
 },
 "nbformat": 4,
 "nbformat_minor": 4
}
