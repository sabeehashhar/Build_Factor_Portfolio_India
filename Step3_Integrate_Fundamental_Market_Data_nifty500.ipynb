{
 "cells": [
  {
   "cell_type": "markdown",
   "metadata": {},
   "source": [
    "# Code to Integrate Fundamental Data from Screener.in and Pricing Data from Yahoo Finance"
   ]
  },
  {
   "cell_type": "code",
   "execution_count": 13,
   "metadata": {},
   "outputs": [],
   "source": [
    "import pandas as pd\n",
    "import numpy as np\n",
    "import matplotlib.pyplot as plt\n",
    "plt.style.use('ggplot')\n",
    "from datetime import timedelta\n",
    "import warnings\n",
    "warnings.filterwarnings('ignore')"
   ]
  },
  {
   "cell_type": "markdown",
   "metadata": {},
   "source": [
    "# Read the Screener Data for Fundamental Data integration with Market Data"
   ]
  },
  {
   "cell_type": "code",
   "execution_count": 14,
   "metadata": {},
   "outputs": [],
   "source": [
    "yearly_data=pd.read_csv('data/Yearly_Ticker_nifty500_standalone.csv')\n",
    "yearly_data.head()\n",
    "ticker_list=yearly_data['Ticker'].unique().tolist()\n",
    "type_list=yearly_data['Type'].unique().tolist()\n",
    "for types in type_list:\n",
    "    z3=pd.DataFrame()\n",
    "    file_name=types+'.csv'\n",
    "    for ticker in ticker_list:\n",
    "        z=yearly_data[yearly_data['Type']==types]\n",
    "        z1=z[z['Ticker']==ticker]\n",
    "        z2=z1.drop(['Ticker','Type'],axis=1).T\n",
    "        z2.columns = z2.iloc[0]\n",
    "        z2=z2.drop(z2.index[0])\n",
    "        z2['Symbol']=ticker\n",
    "        z3=z3.append(z2)\n",
    "    #z3.rename(columns={ z3.columns[1]: \"Date\" }, inplace = True)\n",
    "    z3.columns = z3.columns.str.replace(\"[+]\", \"\")\n",
    "    z3.columns = z3.columns.str.replace(\"[%]\", \"\")\n",
    "    z3.columns = z3.columns.str.replace(\"[Â]\", \"\")\n",
    "    z3.to_csv(file_name)\n",
    "final=pd.DataFrame()\n",
    "income_s=pd.read_csv('Income_Statement.csv')\n",
    "income_s.rename(columns = {'Unnamed: 0':'Date'}, inplace = True) \n",
    "income_s=income_s.fillna(0)\n",
    "income_s['Sales']=income_s['Sales'].astype(float)\n",
    "#income_s['Revenue']=income_s['Revenue'].astype(float)\n",
    "#income_s['Sales1'] = income_s['Sales']+ income_s['Revenue']\n",
    "#income_s['Sales1']=income_s['Sales1'].replace('nan','',regex=True).astype(float)\n",
    "#income_s['Sales']=income_s['Sales1']\n",
    "#income_s=income_s.drop(['Sales1','Revenue','Financing Profit','Financing Margin '],axis=1)\n",
    "balance_s=pd.read_csv('Balance_Sheet.csv')\n",
    "balance_s.rename(columns = {'Unnamed: 0':'Date'}, inplace = True) \n",
    "cash_s=pd.read_csv('Cash_Flow.csv')\n",
    "cash_s.rename(columns = {'Unnamed: 0':'Date'}, inplace = True) \n",
    "final_y=income_s.merge(balance_s,how='inner',on=['Date','Symbol']).merge(cash_s,how='inner',on=['Date','Symbol'])\n",
    "final_y.columns = final_y.columns.str.replace(' ', '')\n",
    "final_y_1=final_y[['Date','Symbol','Sales','OPM','NetProfit','ShareCapital','EPSinRs','DividendPayout','OtherLiabilities','TotalAssets','NetCashFlow']]\n",
    "#final_y_1['Date'] = pd.to_datetime(pd.DatetimeIndex(pd.to_datetime(final_y_1['Date'], format='%Y')).year,format='%Y')\n",
    "final_y_1['Trail_EPSinRs']=final_y_1.groupby('Symbol')['EPSinRs'].shift(1)\n",
    "final_y_1['Trail_Sales']=final_y_1.groupby('Symbol')['Sales'].shift(1)\n",
    "final_y_1['Date1']=final_y_1['Date']\n",
    "#final_y_1=final_y_1.drop_duplicates()"
   ]
  },
  {
   "cell_type": "markdown",
   "metadata": {},
   "source": [
    "# Backfilling the details for missing data "
   ]
  },
  {
   "cell_type": "code",
   "execution_count": 15,
   "metadata": {},
   "outputs": [],
   "source": [
    "column_list=['Sales','OPM','NetProfit','ShareCapital','EPSinRs','DividendPayout','OtherLiabilities','TotalAssets','NetCashFlow','Trail_EPSinRs','Trail_Sales']\n",
    "for column in column_list:\n",
    "    #print(\"Column Name is:\", column)\n",
    "    final_y_1[final_y_1[column]==\"\"] = np.NaN\n",
    "    final_y_1[column]=final_y_1.groupby('Symbol')[column].fillna(method='bfill')\n",
    "    final_y_1[column]=final_y_1.groupby('Symbol')[column].fillna(method='ffill')"
   ]
  },
  {
   "cell_type": "markdown",
   "metadata": {},
   "source": [
    "# Calculate Shares Outstanding"
   ]
  },
  {
   "cell_type": "code",
   "execution_count": 16,
   "metadata": {},
   "outputs": [],
   "source": [
    "symbol_list=final_y_1['Symbol'].unique().tolist()\n",
    "final_y_2=pd.DataFrame()\n",
    "for symbol in symbol_list:\n",
    "    temp=final_y_1[final_y_1['Symbol']==symbol]\n",
    "    temp['Open_Shares_old']=abs(temp['NetProfit']/temp['EPSinRs'])\n",
    "    median=temp['Open_Shares_old'].median()\n",
    "    temp[\"Open_Shares\"] = np.where(temp[\"Open_Shares_old\"] > 1.2*median, median, temp[\"Open_Shares_old\"])\n",
    "    temp[\"Open_Shares\"] = np.where(temp[\"Open_Shares_old\"] < 0.8*median, median, temp[\"Open_Shares_old\"])\n",
    "    final_y_2=final_y_2.append(temp)"
   ]
  },
  {
   "cell_type": "code",
   "execution_count": 17,
   "metadata": {},
   "outputs": [],
   "source": [
    "final_y_2['Sales_Growth']=final_y_2.groupby('Symbol')['Sales'].apply(lambda x:x/x.shift(1)-1)\n",
    "final_y_2['Sales_Growth']=final_y_2.groupby('Symbol')['Sales_Growth'].fillna(method='bfill')\n",
    "final_y_2['Sales_Growth']=final_y_2.groupby('Symbol')['Sales_Growth'].fillna(method='ffill')\n",
    "final_y_2['Sales_Growth']=final_y_2['Sales_Growth'].replace([np.inf, -np.inf], 0)\n",
    "final_y_2['EPS_Growth']=final_y_2.groupby('Symbol')['EPSinRs'].apply(lambda x:x/x.shift(1)-1)\n",
    "final_y_2['EPS_Growth']=final_y_2.groupby('Symbol')['EPS_Growth'].fillna(method='bfill')\n",
    "final_y_2['EPS_Growth']=final_y_2.groupby('Symbol')['EPS_Growth'].fillna(method='ffill')\n",
    "final_y_2['EPS_Growth']=final_y_2['EPS_Growth'].replace([np.inf, -np.inf], 0)\n",
    "final_y_2['OPM'] = final_y_2['OPM'].str.replace(\"[%]\", \"\")\n",
    "final_y_2['OPM']=pd.to_numeric(final_y_2['OPM'])\n",
    "final_y_2['OPM_Growth']=final_y_2.groupby('Symbol')['OPM'].apply(lambda x:x/x.shift(1)-1)\n",
    "final_y_2['OPM_Growth']=final_y_2.groupby('Symbol')['OPM_Growth'].fillna(method='bfill')\n",
    "final_y_2['OPM_Growth']=final_y_2.groupby('Symbol')['OPM_Growth'].fillna(method='ffill')\n",
    "final_y_2['OPM_Growth']=final_y_2['OPM_Growth'].replace([np.inf, -np.inf], 0)\n",
    "final_y_2['ROE']=final_y_2['Trail_EPSinRs']/final_y_2['ShareCapital']\n",
    "final_y_2['ROE']=final_y_2.groupby('Symbol')['ROE'].fillna(method='bfill')\n",
    "final_y_2['ROE']=final_y_2.groupby('Symbol')['ROE'].fillna(method='ffill')\n",
    "final_y_2['ROE']=final_y_2['ROE'].replace([np.inf, -np.inf], 0)\n",
    "final_y_2['Leverage']=final_y_2['OtherLiabilities']/final_y_2['ShareCapital']\n",
    "final_y_2['Leverage']=final_y_2.groupby('Symbol')['Leverage'].fillna(method='bfill')\n",
    "final_y_2['Leverage']=final_y_2.groupby('Symbol')['Leverage'].fillna(method='ffill')\n",
    "final_y_2['Leverage']=final_y_2['Leverage'].replace([np.inf, -np.inf], 0)\n",
    "final_y_2['Quality']=(final_y_2['ROE']+final_y_2['Leverage'])/2\n",
    "final_y_2['Leverage']=final_y_2['OtherLiabilities']/final_y_2['ShareCapital']\n",
    "final_y_2['Leverage']=final_y_2.groupby('Symbol')['Leverage'].fillna(method='bfill')\n",
    "final_y_2['Leverage']=final_y_2.groupby('Symbol')['Leverage'].fillna(method='ffill')\n",
    "final_y_2['Leverage']=final_y_2['Leverage'].replace([np.inf, -np.inf], 0)\n",
    "final_y_2['BVPS']=final_y_2['ShareCapital']/final_y_2['Open_Shares']\n",
    "final_y_2['BVPS']=final_y_2.groupby('Symbol')['BVPS'].fillna(method='bfill')\n",
    "final_y_2['BVPS']=final_y_2.groupby('Symbol')['BVPS'].fillna(method='ffill')\n",
    "final_y_2['BVPS']=final_y_2['BVPS'].replace([np.inf, -np.inf], 0)\n",
    "final_y_2['Sale_per_share']=final_y_2['Sales']/final_y_2['Open_Shares']\n",
    "final_y_2['Sale_per_share']=final_y_2.groupby('Symbol')['Sale_per_share'].fillna(method='bfill')\n",
    "final_y_2['Sale_per_share']=final_y_2.groupby('Symbol')['Sale_per_share'].fillna(method='ffill')\n",
    "final_y_2['Sale_per_share']=final_y_2['Sale_per_share'].replace([np.inf, -np.inf], 0)\n",
    "final_y_2['Value']=(final_y_2['BVPS']+final_y_2['Sale_per_share']+final_y_2['EPSinRs'])/3\n",
    "final_y_2['DividendPayout'] = final_y_2['DividendPayout'].str.replace(\"[%]\", \"\")\n",
    "final_y_2['DividendPayout']=pd.to_numeric(final_y_2['DividendPayout'])"
   ]
  },
  {
   "cell_type": "code",
   "execution_count": 18,
   "metadata": {},
   "outputs": [],
   "source": [
    "final_y_2['Date1']=pd.to_datetime(final_y_1['Date'], format='%Y')\n",
    "final_y_2['Date1']=pd.to_datetime(pd.DatetimeIndex(final_y_2['Date1']).year)"
   ]
  },
  {
   "cell_type": "code",
   "execution_count": 19,
   "metadata": {},
   "outputs": [],
   "source": [
    "concat_df=pd.read_csv('data/NSE_500_Output.csv')\n",
    "concat_df['Date']= pd.to_datetime(concat_df['Date'])\n",
    "concat_df['Date1'] = pd.to_datetime(pd.DatetimeIndex(concat_df['Date']).year)"
   ]
  },
  {
   "cell_type": "code",
   "execution_count": 20,
   "metadata": {},
   "outputs": [],
   "source": [
    "concat_df=concat_df.merge(final_y_2[['Symbol','Date1','Sales','OPM', 'NetProfit','EPSinRs', 'DividendPayout', 'OtherLiabilities', \n",
    "       'Open_Shares','Sales_Growth', 'EPS_Growth','OPM_Growth', 'ROE', 'Leverage', 'BVPS', 'Sale_per_share']].dropna(),how='left',on=['Symbol','Date1'])"
   ]
  },
  {
   "cell_type": "code",
   "execution_count": 21,
   "metadata": {},
   "outputs": [],
   "source": [
    "concat_df['Sales_Growth']=concat_df.groupby('Symbol')['Sales_Growth'].fillna(method='ffill')\n",
    "concat_df['Sales_Growth']=concat_df.groupby('Symbol')['Sales_Growth'].apply(lambda x:x.interpolate(method='linear', limit_direction='backward', axis=0))\n",
    "concat_df['EPS_Growth']=concat_df.groupby('Symbol')['EPS_Growth'].fillna(method='ffill')\n",
    "concat_df['EPS_Growth']=concat_df.groupby('Symbol')['EPS_Growth'].apply(lambda x:x.interpolate(method='linear', limit_direction='backward', axis=0))\n",
    "concat_df['EPS in Rs']=concat_df.groupby('Symbol')['EPSinRs'].fillna(method='ffill')\n",
    "concat_df['EPS']=concat_df.groupby('Symbol')['EPSinRs'].apply(lambda x:x.interpolate(method='linear', limit_direction='backward', axis=0))\n",
    "concat_df['Sales']=concat_df.groupby('Symbol')['Sales'].fillna(method='ffill')\n",
    "concat_df['Sales']=concat_df.groupby('Symbol')['Sales'].apply(lambda x:x.interpolate(method='linear', limit_direction='backward', axis=0))\n",
    "concat_df['NetProfit']=concat_df.groupby('Symbol')['NetProfit'].fillna(method='ffill')\n",
    "concat_df['NetProfit']=concat_df.groupby('Symbol')['NetProfit'].apply(lambda x:x.interpolate(method='linear', limit_direction='backward', axis=0))\n",
    "concat_df['Open_Shares']=concat_df.groupby('Symbol')['Open_Shares'].fillna(method='ffill')\n",
    "concat_df['Open_Shares']=concat_df.groupby('Symbol')['Open_Shares'].apply(lambda x:x.interpolate(method='linear', limit_direction='backward', axis=0))\n",
    "concat_df['OPM_Growth']=concat_df.groupby('Symbol')['OPM_Growth'].fillna(method='ffill')\n",
    "concat_df['OPM_Growth']=concat_df.groupby('Symbol')['OPM_Growth'].apply(lambda x:x.interpolate(method='linear', limit_direction='backward', axis=0))\n",
    "concat_df['ROE']=concat_df.groupby('Symbol')['ROE'].fillna(method='ffill')\n",
    "concat_df['ROE']=concat_df.groupby('Symbol')['ROE'].apply(lambda x:x.interpolate(method='linear', limit_direction='backward', axis=0))\n",
    "concat_df['Leverage']=concat_df.groupby('Symbol')['Leverage'].fillna(method='ffill')\n",
    "concat_df['Leverage']=concat_df.groupby('Symbol')['Leverage'].apply(lambda x:x.interpolate(method='linear', limit_direction='backward', axis=0))\n",
    "concat_df['BVPS']=concat_df.groupby('Symbol')['BVPS'].fillna(method='ffill')\n",
    "concat_df['BVPS']=concat_df.groupby('Symbol')['BVPS'].apply(lambda x:x.interpolate(method='linear', limit_direction='backward', axis=0))\n",
    "concat_df['Sale_per_share']=concat_df.groupby('Symbol')['Sales'].fillna(method='ffill')\n",
    "concat_df['Sale_per_share']=concat_df.groupby('Symbol')['Sales'].apply(lambda x:x.interpolate(method='linear', limit_direction='backward', axis=0))"
   ]
  },
  {
   "cell_type": "markdown",
   "metadata": {},
   "source": [
    "# Calculate Derived Factors like E/P, BV/Price, Fama French Size Factor"
   ]
  },
  {
   "cell_type": "code",
   "execution_count": 22,
   "metadata": {},
   "outputs": [],
   "source": [
    "concat_df['E/P']=concat_df['EPS']/concat_df['Adj Close']\n",
    "concat_df['Sales/Price']=concat_df['Sale_per_share']/concat_df['Adj Close']\n",
    "concat_df['BV/Price']=concat_df['BVPS']/concat_df['Adj Close']\n",
    "concat_df['PEG']=1/(concat_df['EPS_Growth']*concat_df['E/P'])\n",
    "#final_y_2['DividendPayout'] = final_y_2['DividendPayout'].str.replace(\"[%]\", \"\")\n",
    "concat_df['Div/Price']=concat_df['DividendPayout']/concat_df['Adj Close']\n",
    "#concat_df['EPC_NP']=concat_df['EPS']/concat_df['NetProfit']\n",
    "#concat_df['PES']=concat_df['Adj Close']*concat_df['Open_Shares']/concat_df['Sales']\n",
    "concat_df['Size_Factor']=-1*np.log(concat_df['Adj Close']*concat_df['Open_Shares'])"
   ]
  },
  {
   "cell_type": "code",
   "execution_count": 23,
   "metadata": {},
   "outputs": [],
   "source": [
    "concat_df['E/P']=concat_df['E/P'].replace([np.inf, -np.inf], 0)\n",
    "concat_df['Sales/Price']=concat_df['Sales/Price'].replace([np.inf, -np.inf], 0)\n",
    "concat_df['BV/Price']=concat_df['BV/Price'].replace([np.inf, -np.inf], 0)\n",
    "concat_df['PEG']=concat_df['PEG'].replace([np.inf, -np.inf], 0)\n",
    "concat_df['Div/Price']=concat_df['Sales/Price'].replace([np.inf, -np.inf], 0)"
   ]
  },
  {
   "cell_type": "markdown",
   "metadata": {},
   "source": [
    "# Calculate Quality and Value Factors"
   ]
  },
  {
   "cell_type": "code",
   "execution_count": 24,
   "metadata": {},
   "outputs": [],
   "source": [
    "column_list=['Volume','Share_Turnover', 'Return', 'Momentum', 'StDev',\n",
    "       'Liquidity', 'Volatility','Sales', 'OPM',\n",
    "       'NetProfit', 'EPSinRs', 'DividendPayout', 'OtherLiabilities',\n",
    "       'Open_Shares', 'Sales_Growth', 'EPS_Growth', 'OPM_Growth', 'ROE',\n",
    "       'Leverage', 'BVPS', 'Sale_per_share', 'EPS in Rs', 'EPS', 'E/P',\n",
    "       'Sales/Price', 'BV/Price', 'PEG', 'Size_Factor']\n",
    "for column in column_list:\n",
    "    concat_df[concat_df[column]==\"\"] = np.NaN\n",
    "    concat_df[column]=concat_df.groupby('Symbol')[column].fillna(method='bfill')\n",
    "    concat_df[column]=concat_df.groupby('Symbol')[column].fillna(method='ffill')\n",
    "concat_df=concat_df.drop(['Unnamed: 0', 'Date1'],axis=1)\n",
    "concat_df['StDev']=1/concat_df['StDev']\n",
    "concat_df['Quality']=(concat_df['ROE']+concat_df['Leverage'])/2\n",
    "concat_df['Value']=(concat_df['E/P']+concat_df['Sales/Price']+concat_df['BV/Price'])/3"
   ]
  },
  {
   "cell_type": "code",
   "execution_count": 25,
   "metadata": {},
   "outputs": [],
   "source": [
    "concat_df.to_csv('data/Data_Y_nifty500.csv')"
   ]
  },
  {
   "cell_type": "code",
   "execution_count": null,
   "metadata": {},
   "outputs": [],
   "source": []
  }
 ],
 "metadata": {
  "kernelspec": {
   "display_name": "Python 3",
   "language": "python",
   "name": "python3"
  },
  "language_info": {
   "codemirror_mode": {
    "name": "ipython",
    "version": 3
   },
   "file_extension": ".py",
   "mimetype": "text/x-python",
   "name": "python",
   "nbconvert_exporter": "python",
   "pygments_lexer": "ipython3",
   "version": "3.6.10"
  }
 },
 "nbformat": 4,
 "nbformat_minor": 4
}
